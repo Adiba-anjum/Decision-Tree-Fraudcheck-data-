{
 "cells": [
  {
   "cell_type": "code",
   "execution_count": 5,
   "metadata": {},
   "outputs": [],
   "source": [
    "#Use decision trees to prepare a model on fraud data \n",
    "#treating those who have taxable_income <= 30000 as \"Risky\" and others are \"Good\"\n",
    "#Data Description :\n",
    "\n",
    "#Undergrad : person is under graduated or not\n",
    "#Marital.Status : marital status of a person\n",
    "#Taxable.Income : Taxable income is the amount of how much tax an individual owes to the government \n",
    "#Work Experience : Work experience of an individual person\n",
    "#Urban : Whether that person belongs to urban area or not\n",
    "\n"
   ]
  },
  {
   "cell_type": "code",
   "execution_count": 22,
   "metadata": {},
   "outputs": [],
   "source": [
    "import numpy as np\n",
    "import pandas as pd\n",
    "import matplotlib as plt\n",
    "%matplotlib inline"
   ]
  },
  {
   "cell_type": "code",
   "execution_count": 23,
   "metadata": {},
   "outputs": [
    {
     "data": {
      "text/html": [
       "<div>\n",
       "<style scoped>\n",
       "    .dataframe tbody tr th:only-of-type {\n",
       "        vertical-align: middle;\n",
       "    }\n",
       "\n",
       "    .dataframe tbody tr th {\n",
       "        vertical-align: top;\n",
       "    }\n",
       "\n",
       "    .dataframe thead th {\n",
       "        text-align: right;\n",
       "    }\n",
       "</style>\n",
       "<table border=\"1\" class=\"dataframe\">\n",
       "  <thead>\n",
       "    <tr style=\"text-align: right;\">\n",
       "      <th></th>\n",
       "      <th>Undergrad</th>\n",
       "      <th>Marital.Status</th>\n",
       "      <th>Taxable.Income</th>\n",
       "      <th>City.Population</th>\n",
       "      <th>Work.Experience</th>\n",
       "      <th>Urban</th>\n",
       "    </tr>\n",
       "  </thead>\n",
       "  <tbody>\n",
       "    <tr>\n",
       "      <th>0</th>\n",
       "      <td>NO</td>\n",
       "      <td>Single</td>\n",
       "      <td>68833</td>\n",
       "      <td>50047</td>\n",
       "      <td>10</td>\n",
       "      <td>YES</td>\n",
       "    </tr>\n",
       "    <tr>\n",
       "      <th>1</th>\n",
       "      <td>YES</td>\n",
       "      <td>Divorced</td>\n",
       "      <td>33700</td>\n",
       "      <td>134075</td>\n",
       "      <td>18</td>\n",
       "      <td>YES</td>\n",
       "    </tr>\n",
       "    <tr>\n",
       "      <th>2</th>\n",
       "      <td>NO</td>\n",
       "      <td>Married</td>\n",
       "      <td>36925</td>\n",
       "      <td>160205</td>\n",
       "      <td>30</td>\n",
       "      <td>YES</td>\n",
       "    </tr>\n",
       "    <tr>\n",
       "      <th>3</th>\n",
       "      <td>YES</td>\n",
       "      <td>Single</td>\n",
       "      <td>50190</td>\n",
       "      <td>193264</td>\n",
       "      <td>15</td>\n",
       "      <td>YES</td>\n",
       "    </tr>\n",
       "  </tbody>\n",
       "</table>\n",
       "</div>"
      ],
      "text/plain": [
       "  Undergrad Marital.Status  Taxable.Income  City.Population  Work.Experience  \\\n",
       "0        NO         Single           68833            50047               10   \n",
       "1       YES       Divorced           33700           134075               18   \n",
       "2        NO        Married           36925           160205               30   \n",
       "3       YES         Single           50190           193264               15   \n",
       "\n",
       "  Urban  \n",
       "0   YES  \n",
       "1   YES  \n",
       "2   YES  \n",
       "3   YES  "
      ]
     },
     "execution_count": 23,
     "metadata": {},
     "output_type": "execute_result"
    }
   ],
   "source": [
    "dt = pd.read_csv(\"E:\\\\Excelr\\\\Assignments\\\\Assignments DS\\\\Decision Tree\\\\Fraud_check.csv\")\n",
    "dt.head(4)"
   ]
  },
  {
   "cell_type": "code",
   "execution_count": 24,
   "metadata": {},
   "outputs": [
    {
     "data": {
      "text/plain": [
       "Undergrad          0\n",
       "Marital.Status     0\n",
       "Taxable.Income     0\n",
       "City.Population    0\n",
       "Work.Experience    0\n",
       "Urban              0\n",
       "dtype: int64"
      ]
     },
     "execution_count": 24,
     "metadata": {},
     "output_type": "execute_result"
    }
   ],
   "source": [
    "#checking for null values in the dataset\n",
    "dt.isnull().sum()"
   ]
  },
  {
   "cell_type": "code",
   "execution_count": 25,
   "metadata": {},
   "outputs": [
    {
     "data": {
      "text/html": [
       "<div>\n",
       "<style scoped>\n",
       "    .dataframe tbody tr th:only-of-type {\n",
       "        vertical-align: middle;\n",
       "    }\n",
       "\n",
       "    .dataframe tbody tr th {\n",
       "        vertical-align: top;\n",
       "    }\n",
       "\n",
       "    .dataframe thead th {\n",
       "        text-align: right;\n",
       "    }\n",
       "</style>\n",
       "<table border=\"1\" class=\"dataframe\">\n",
       "  <thead>\n",
       "    <tr style=\"text-align: right;\">\n",
       "      <th></th>\n",
       "      <th>Undergrad</th>\n",
       "      <th>Marital.Status</th>\n",
       "      <th>Taxable.Income</th>\n",
       "      <th>City.Population</th>\n",
       "      <th>Work.Experience</th>\n",
       "      <th>Urban</th>\n",
       "    </tr>\n",
       "  </thead>\n",
       "  <tbody>\n",
       "    <tr>\n",
       "      <th>0</th>\n",
       "      <td>1</td>\n",
       "      <td>0</td>\n",
       "      <td>68833</td>\n",
       "      <td>50047</td>\n",
       "      <td>10</td>\n",
       "      <td>1</td>\n",
       "    </tr>\n",
       "    <tr>\n",
       "      <th>1</th>\n",
       "      <td>1</td>\n",
       "      <td>1</td>\n",
       "      <td>33700</td>\n",
       "      <td>134075</td>\n",
       "      <td>18</td>\n",
       "      <td>1</td>\n",
       "    </tr>\n",
       "    <tr>\n",
       "      <th>2</th>\n",
       "      <td>1</td>\n",
       "      <td>1</td>\n",
       "      <td>36925</td>\n",
       "      <td>160205</td>\n",
       "      <td>30</td>\n",
       "      <td>1</td>\n",
       "    </tr>\n",
       "    <tr>\n",
       "      <th>3</th>\n",
       "      <td>1</td>\n",
       "      <td>0</td>\n",
       "      <td>50190</td>\n",
       "      <td>193264</td>\n",
       "      <td>15</td>\n",
       "      <td>1</td>\n",
       "    </tr>\n",
       "  </tbody>\n",
       "</table>\n",
       "</div>"
      ],
      "text/plain": [
       "   Undergrad  Marital.Status  Taxable.Income  City.Population  \\\n",
       "0          1               0           68833            50047   \n",
       "1          1               1           33700           134075   \n",
       "2          1               1           36925           160205   \n",
       "3          1               0           50190           193264   \n",
       "\n",
       "   Work.Experience  Urban  \n",
       "0               10      1  \n",
       "1               18      1  \n",
       "2               30      1  \n",
       "3               15      1  "
      ]
     },
     "execution_count": 25,
     "metadata": {},
     "output_type": "execute_result"
    }
   ],
   "source": [
    "dt['Marital.Status'] = dt['Marital.Status'].apply(lambda x: 0 if x=='Single' else 1)\n",
    "dt['Undergrad'] = dt['Undergrad'].apply(lambda x: 0 if x=='no' else 1)\n",
    "dt['Urban'] = dt['Urban'].apply(lambda x: 0 if x=='no' else 1)\n",
    "dt.head(4)"
   ]
  },
  {
   "cell_type": "code",
   "execution_count": 26,
   "metadata": {},
   "outputs": [],
   "source": [
    "#Converting the taxes column into categorical variable\n",
    "taxes = []\n",
    "for value in dt[\"Taxable.Income\"]:\n",
    "    if value<=30000:\n",
    "        taxes.append(\"Risky\")\n",
    "    else:\n",
    "        taxes.append(\"good\")\n",
    "        \n",
    "dt[\"taxes\"]= taxes"
   ]
  },
  {
   "cell_type": "code",
   "execution_count": 27,
   "metadata": {},
   "outputs": [
    {
     "data": {
      "text/html": [
       "<div>\n",
       "<style scoped>\n",
       "    .dataframe tbody tr th:only-of-type {\n",
       "        vertical-align: middle;\n",
       "    }\n",
       "\n",
       "    .dataframe tbody tr th {\n",
       "        vertical-align: top;\n",
       "    }\n",
       "\n",
       "    .dataframe thead th {\n",
       "        text-align: right;\n",
       "    }\n",
       "</style>\n",
       "<table border=\"1\" class=\"dataframe\">\n",
       "  <thead>\n",
       "    <tr style=\"text-align: right;\">\n",
       "      <th></th>\n",
       "      <th>Undergrad</th>\n",
       "      <th>Marital.Status</th>\n",
       "      <th>Taxable.Income</th>\n",
       "      <th>City.Population</th>\n",
       "      <th>Work.Experience</th>\n",
       "      <th>Urban</th>\n",
       "      <th>taxes</th>\n",
       "    </tr>\n",
       "  </thead>\n",
       "  <tbody>\n",
       "    <tr>\n",
       "      <th>0</th>\n",
       "      <td>1</td>\n",
       "      <td>0</td>\n",
       "      <td>68833</td>\n",
       "      <td>50047</td>\n",
       "      <td>10</td>\n",
       "      <td>1</td>\n",
       "      <td>good</td>\n",
       "    </tr>\n",
       "    <tr>\n",
       "      <th>1</th>\n",
       "      <td>1</td>\n",
       "      <td>1</td>\n",
       "      <td>33700</td>\n",
       "      <td>134075</td>\n",
       "      <td>18</td>\n",
       "      <td>1</td>\n",
       "      <td>good</td>\n",
       "    </tr>\n",
       "    <tr>\n",
       "      <th>2</th>\n",
       "      <td>1</td>\n",
       "      <td>1</td>\n",
       "      <td>36925</td>\n",
       "      <td>160205</td>\n",
       "      <td>30</td>\n",
       "      <td>1</td>\n",
       "      <td>good</td>\n",
       "    </tr>\n",
       "    <tr>\n",
       "      <th>3</th>\n",
       "      <td>1</td>\n",
       "      <td>0</td>\n",
       "      <td>50190</td>\n",
       "      <td>193264</td>\n",
       "      <td>15</td>\n",
       "      <td>1</td>\n",
       "      <td>good</td>\n",
       "    </tr>\n",
       "  </tbody>\n",
       "</table>\n",
       "</div>"
      ],
      "text/plain": [
       "   Undergrad  Marital.Status  Taxable.Income  City.Population  \\\n",
       "0          1               0           68833            50047   \n",
       "1          1               1           33700           134075   \n",
       "2          1               1           36925           160205   \n",
       "3          1               0           50190           193264   \n",
       "\n",
       "   Work.Experience  Urban taxes  \n",
       "0               10      1  good  \n",
       "1               18      1  good  \n",
       "2               30      1  good  \n",
       "3               15      1  good  "
      ]
     },
     "execution_count": 27,
     "metadata": {},
     "output_type": "execute_result"
    }
   ],
   "source": [
    "dt.head(4)"
   ]
  },
  {
   "cell_type": "code",
   "execution_count": 28,
   "metadata": {},
   "outputs": [
    {
     "data": {
      "text/html": [
       "<div>\n",
       "<style scoped>\n",
       "    .dataframe tbody tr th:only-of-type {\n",
       "        vertical-align: middle;\n",
       "    }\n",
       "\n",
       "    .dataframe tbody tr th {\n",
       "        vertical-align: top;\n",
       "    }\n",
       "\n",
       "    .dataframe thead th {\n",
       "        text-align: right;\n",
       "    }\n",
       "</style>\n",
       "<table border=\"1\" class=\"dataframe\">\n",
       "  <thead>\n",
       "    <tr style=\"text-align: right;\">\n",
       "      <th></th>\n",
       "      <th>Undergrad</th>\n",
       "      <th>Marital.Status</th>\n",
       "      <th>City.Population</th>\n",
       "      <th>Work.Experience</th>\n",
       "      <th>Urban</th>\n",
       "      <th>taxes</th>\n",
       "    </tr>\n",
       "  </thead>\n",
       "  <tbody>\n",
       "    <tr>\n",
       "      <th>0</th>\n",
       "      <td>1</td>\n",
       "      <td>0</td>\n",
       "      <td>50047</td>\n",
       "      <td>10</td>\n",
       "      <td>1</td>\n",
       "      <td>good</td>\n",
       "    </tr>\n",
       "    <tr>\n",
       "      <th>1</th>\n",
       "      <td>1</td>\n",
       "      <td>1</td>\n",
       "      <td>134075</td>\n",
       "      <td>18</td>\n",
       "      <td>1</td>\n",
       "      <td>good</td>\n",
       "    </tr>\n",
       "    <tr>\n",
       "      <th>2</th>\n",
       "      <td>1</td>\n",
       "      <td>1</td>\n",
       "      <td>160205</td>\n",
       "      <td>30</td>\n",
       "      <td>1</td>\n",
       "      <td>good</td>\n",
       "    </tr>\n",
       "    <tr>\n",
       "      <th>3</th>\n",
       "      <td>1</td>\n",
       "      <td>0</td>\n",
       "      <td>193264</td>\n",
       "      <td>15</td>\n",
       "      <td>1</td>\n",
       "      <td>good</td>\n",
       "    </tr>\n",
       "    <tr>\n",
       "      <th>4</th>\n",
       "      <td>1</td>\n",
       "      <td>1</td>\n",
       "      <td>27533</td>\n",
       "      <td>28</td>\n",
       "      <td>1</td>\n",
       "      <td>good</td>\n",
       "    </tr>\n",
       "  </tbody>\n",
       "</table>\n",
       "</div>"
      ],
      "text/plain": [
       "   Undergrad  Marital.Status  City.Population  Work.Experience  Urban taxes\n",
       "0          1               0            50047               10      1  good\n",
       "1          1               1           134075               18      1  good\n",
       "2          1               1           160205               30      1  good\n",
       "3          1               0           193264               15      1  good\n",
       "4          1               1            27533               28      1  good"
      ]
     },
     "execution_count": 28,
     "metadata": {},
     "output_type": "execute_result"
    }
   ],
   "source": [
    "#dropping the sales column\n",
    "dt=dt.drop(['Taxable.Income'], axis=1)\n",
    "dt.head()"
   ]
  },
  {
   "cell_type": "code",
   "execution_count": 29,
   "metadata": {},
   "outputs": [],
   "source": [
    "#preparing the data\n",
    "X = dt.drop('taxes', axis=1)\n",
    "y = dt['taxes']"
   ]
  },
  {
   "cell_type": "raw",
   "metadata": {},
   "source": []
  },
  {
   "cell_type": "code",
   "execution_count": 30,
   "metadata": {},
   "outputs": [],
   "source": [
    "# Splitting data into training and testing data set\n",
    "from sklearn.model_selection import train_test_split\n",
    "X_train,X_test,y_train,y_test = train_test_split(X, y ,test_size = 0.2, random_state=42)"
   ]
  },
  {
   "cell_type": "code",
   "execution_count": 88,
   "metadata": {},
   "outputs": [
    {
     "data": {
      "text/plain": [
       "DecisionTreeClassifier(criterion='entropy')"
      ]
     },
     "execution_count": 88,
     "metadata": {},
     "output_type": "execute_result"
    }
   ],
   "source": [
    "from sklearn.tree import  DecisionTreeClassifier\n",
    "en = DecisionTreeClassifier(criterion = 'entropy')\n",
    "en.fit(X_train, y_train)"
   ]
  },
  {
   "cell_type": "code",
   "execution_count": 89,
   "metadata": {},
   "outputs": [],
   "source": [
    "preds = en.predict(X_test)\n",
    "#preds is predicted values of test data"
   ]
  },
  {
   "cell_type": "code",
   "execution_count": 90,
   "metadata": {},
   "outputs": [
    {
     "data": {
      "text/plain": [
       "numpy.ndarray"
      ]
     },
     "execution_count": 90,
     "metadata": {},
     "output_type": "execute_result"
    }
   ],
   "source": [
    "type(preds)"
   ]
  },
  {
   "cell_type": "code",
   "execution_count": 91,
   "metadata": {},
   "outputs": [
    {
     "data": {
      "text/plain": [
       "good     97\n",
       "Risky    23\n",
       "dtype: int64"
      ]
     },
     "execution_count": 91,
     "metadata": {},
     "output_type": "execute_result"
    }
   ],
   "source": [
    "pd.Series(preds).value_counts()"
   ]
  },
  {
   "cell_type": "code",
   "execution_count": 92,
   "metadata": {},
   "outputs": [
    {
     "data": {
      "text/html": [
       "<div>\n",
       "<style scoped>\n",
       "    .dataframe tbody tr th:only-of-type {\n",
       "        vertical-align: middle;\n",
       "    }\n",
       "\n",
       "    .dataframe tbody tr th {\n",
       "        vertical-align: top;\n",
       "    }\n",
       "\n",
       "    .dataframe thead th {\n",
       "        text-align: right;\n",
       "    }\n",
       "</style>\n",
       "<table border=\"1\" class=\"dataframe\">\n",
       "  <thead>\n",
       "    <tr style=\"text-align: right;\">\n",
       "      <th>col_0</th>\n",
       "      <th>Risky</th>\n",
       "      <th>good</th>\n",
       "    </tr>\n",
       "    <tr>\n",
       "      <th>taxes</th>\n",
       "      <th></th>\n",
       "      <th></th>\n",
       "    </tr>\n",
       "  </thead>\n",
       "  <tbody>\n",
       "    <tr>\n",
       "      <th>Risky</th>\n",
       "      <td>5</td>\n",
       "      <td>21</td>\n",
       "    </tr>\n",
       "    <tr>\n",
       "      <th>good</th>\n",
       "      <td>18</td>\n",
       "      <td>76</td>\n",
       "    </tr>\n",
       "  </tbody>\n",
       "</table>\n",
       "</div>"
      ],
      "text/plain": [
       "col_0  Risky  good\n",
       "taxes             \n",
       "Risky      5    21\n",
       "good      18    76"
      ]
     },
     "execution_count": 92,
     "metadata": {},
     "output_type": "execute_result"
    }
   ],
   "source": [
    "pd.crosstab(y_test,preds) #confusion matix"
   ]
  },
  {
   "cell_type": "code",
   "execution_count": 93,
   "metadata": {},
   "outputs": [
    {
     "data": {
      "text/plain": [
       "array(['good', 'Risky'], dtype=object)"
      ]
     },
     "execution_count": 93,
     "metadata": {},
     "output_type": "execute_result"
    }
   ],
   "source": [
    "dt['taxes'].unique()"
   ]
  },
  {
   "cell_type": "code",
   "execution_count": 94,
   "metadata": {},
   "outputs": [
    {
     "data": {
      "text/plain": [
       "good     476\n",
       "Risky    124\n",
       "Name: taxes, dtype: int64"
      ]
     },
     "execution_count": 94,
     "metadata": {},
     "output_type": "execute_result"
    }
   ],
   "source": [
    "dt.taxes.value_counts()"
   ]
  },
  {
   "cell_type": "code",
   "execution_count": 95,
   "metadata": {},
   "outputs": [
    {
     "data": {
      "text/plain": [
       "0.675"
      ]
     },
     "execution_count": 95,
     "metadata": {},
     "output_type": "execute_result"
    }
   ],
   "source": [
    "np.mean(preds==y_test) # Accuracy = Test"
   ]
  },
  {
   "cell_type": "code",
   "execution_count": 96,
   "metadata": {},
   "outputs": [],
   "source": [
    "temp = pd.Series(en.predict(X_train)).reset_index(drop=True)"
   ]
  },
  {
   "cell_type": "code",
   "execution_count": 97,
   "metadata": {},
   "outputs": [
    {
     "data": {
      "text/plain": [
       "1.0"
      ]
     },
     "execution_count": 97,
     "metadata": {},
     "output_type": "execute_result"
    }
   ],
   "source": [
    "np.mean(pd.Series(y_train).reset_index(drop=True) == pd.Series(en.predict(X_train)))\n",
    "# Accuracy = train"
   ]
  },
  {
   "cell_type": "code",
   "execution_count": 67,
   "metadata": {},
   "outputs": [],
   "source": [
    "#feature engineering\n",
    "\n",
    "X_train_fe = X_train.drop(['Undergrad','Marital.Status','Work.Experience','Urban'],axis=1)\n",
    "X_test_fe = X_test.drop(['Undergrad','Marital.Status','Work.Experience','Urban'],axis=1)"
   ]
  },
  {
   "cell_type": "code",
   "execution_count": 68,
   "metadata": {},
   "outputs": [
    {
     "data": {
      "text/plain": [
       "DecisionTreeClassifier(criterion='entropy')"
      ]
     },
     "execution_count": 68,
     "metadata": {},
     "output_type": "execute_result"
    }
   ],
   "source": [
    "#DecisionTreeClassifier with entropy \n",
    "\n",
    "clf_en_fe = DecisionTreeClassifier(criterion='entropy')\n",
    "\n",
    "\n",
    "# fit the model\n",
    "clf_en_fe.fit(X_train_fe, y_train)"
   ]
  },
  {
   "cell_type": "code",
   "execution_count": 69,
   "metadata": {},
   "outputs": [],
   "source": [
    "y_pred_train_en_fe = clf_en_fe.predict(X_train_fe)"
   ]
  },
  {
   "cell_type": "code",
   "execution_count": 70,
   "metadata": {},
   "outputs": [],
   "source": [
    "y_pred_test_en_fe = clf_en_fe.predict(X_test_fe)"
   ]
  },
  {
   "cell_type": "code",
   "execution_count": 71,
   "metadata": {},
   "outputs": [
    {
     "name": "stdout",
     "output_type": "stream",
     "text": [
      "Training data: 0.9979\n",
      "Test data: 0.6917\n"
     ]
    }
   ],
   "source": [
    "print('Training data: {:.4f}'.format(clf_en_fe.score(X_train_fe, y_train)))\n",
    "\n",
    "print('Test data: {:.4f}'.format(clf_en_fe.score(X_test_fe, y_test)))"
   ]
  },
  {
   "cell_type": "code",
   "execution_count": 72,
   "metadata": {},
   "outputs": [],
   "source": [
    "#XGB boosting technique\n",
    "import xgboost as xgb\n",
    "import pandas as pd\n",
    "\n"
   ]
  },
  {
   "cell_type": "code",
   "execution_count": 73,
   "metadata": {},
   "outputs": [],
   "source": [
    "### Preparing XGB classifier \n",
    "xgb1 = xgb.XGBClassifier(learning_rate = 0.1, n_estimators = 20)\n",
    "xgb1.fit(X_train,y_train)\n",
    "train_pred_xgb = xgb1.predict(X_train)"
   ]
  },
  {
   "cell_type": "code",
   "execution_count": 74,
   "metadata": {},
   "outputs": [
    {
     "name": "stdout",
     "output_type": "stream",
     "text": [
      "0.8020833333333334\n"
     ]
    }
   ],
   "source": [
    "import numpy as np\n",
    "accuracy_train_data = np.mean(train_pred_xgb==y_train) \n",
    "print(accuracy_train_data)"
   ]
  },
  {
   "cell_type": "code",
   "execution_count": 75,
   "metadata": {},
   "outputs": [],
   "source": [
    "test_pred_xgb=xgb1.predict(X_test)"
   ]
  },
  {
   "cell_type": "code",
   "execution_count": 76,
   "metadata": {},
   "outputs": [
    {
     "name": "stdout",
     "output_type": "stream",
     "text": [
      "0.7916666666666666\n"
     ]
    }
   ],
   "source": [
    "accuracy_test_data=np.mean(test_pred_xgb==y_test)\n",
    "print(accuracy_test_data)"
   ]
  },
  {
   "cell_type": "code",
   "execution_count": 78,
   "metadata": {},
   "outputs": [
    {
     "data": {
      "text/plain": [
       "<matplotlib.axes._subplots.AxesSubplot at 0x2506646b408>"
      ]
     },
     "execution_count": 78,
     "metadata": {},
     "output_type": "execute_result"
    },
    {
     "data": {
      "image/png": "[encoded data removed]",
      "text/plain": [
       "<Figure size 432x288 with 1 Axes>"
      ]
     },
     "metadata": {
      "needs_background": "light"
     },
     "output_type": "display_data"
    }
   ],
   "source": [
    "# Variable importance plot \n",
    "from xgboost import plot_importance\n",
    "plot_importance(xgb1)"
   ]
  },
  {
   "cell_type": "code",
   "execution_count": 103,
   "metadata": {},
   "outputs": [
    {
     "data": {
      "text/plain": [
       "[Text(269.0100551808706, 214.33371428571428, 'X[2] <= 60294.5\\nentropy = 0.73\\nsamples = 480\\nvalue = [98, 382]'),\n",
       " Text(224.2400490496628, 208.12114285714284, 'X[3] <= 6.5\\nentropy = 0.602\\nsamples = 102\\nvalue = [15, 87]'),\n",
       " Text(218.9850643776824, 201.90857142857143, 'entropy = 0.0\\nsamples = 17\\nvalue = [0, 17]'),\n",
       " Text(229.49503372164315, 201.90857142857143, 'X[3] <= 24.5\\nentropy = 0.672\\nsamples = 85\\nvalue = [15, 70]'),\n",
       " Text(207.16134886572655, 195.696, 'X[2] <= 39943.0\\nentropy = 0.777\\nsamples = 61\\nvalue = [14, 47]'),\n",
       " Text(188.7689025137952, 189.48342857142856, 'X[3] <= 23.0\\nentropy = 0.918\\nsamples = 27\\nvalue = [9, 18]'),\n",
       " Text(183.51391784181484, 183.27085714285715, 'X[2] <= 39305.5\\nentropy = 0.89\\nsamples = 26\\nvalue = [8, 18]'),\n",
       " Text(178.25893316983445, 177.05828571428572, 'X[3] <= 9.5\\nentropy = 0.855\\nsamples = 25\\nvalue = [7, 18]'),\n",
       " Text(162.49397915389332, 170.84571428571428, 'X[2] <= 30101.5\\nentropy = 0.918\\nsamples = 3\\nvalue = [2, 1]'),\n",
       " Text(157.23899448191293, 164.63314285714284, 'entropy = 0.0\\nsamples = 2\\nvalue = [2, 0]'),\n",
       " Text(167.7489638258737, 164.63314285714284, 'entropy = 0.0\\nsamples = 1\\nvalue = [0, 1]'),\n",
       " Text(194.0238871857756, 170.84571428571428, 'X[2] <= 31266.5\\nentropy = 0.773\\nsamples = 22\\nvalue = [5, 17]'),\n",
       " Text(178.25893316983445, 164.63314285714284, 'X[3] <= 20.0\\nentropy = 0.469\\nsamples = 10\\nvalue = [1, 9]'),\n",
       " Text(173.00394849785408, 158.42057142857144, 'entropy = 0.0\\nsamples = 8\\nvalue = [0, 8]'),\n",
       " Text(183.51391784181484, 158.42057142857144, 'X[3] <= 21.5\\nentropy = 1.0\\nsamples = 2\\nvalue = [1, 1]'),\n",
       " Text(178.25893316983445, 152.208, 'entropy = 0.0\\nsamples = 1\\nvalue = [1, 0]'),\n",
       " Text(188.7689025137952, 152.208, 'entropy = 0.0\\nsamples = 1\\nvalue = [0, 1]'),\n",
       " Text(209.78884120171674, 164.63314285714284, 'X[2] <= 37812.5\\nentropy = 0.918\\nsamples = 12\\nvalue = [4, 8]'),\n",
       " Text(204.53385652973637, 158.42057142857144, 'X[2] <= 36940.0\\nentropy = 0.991\\nsamples = 9\\nvalue = [4, 5]'),\n",
       " Text(199.27887185775597, 152.208, 'X[2] <= 32142.0\\nentropy = 0.863\\nsamples = 7\\nvalue = [2, 5]'),\n",
       " Text(194.0238871857756, 145.99542857142856, 'entropy = 0.0\\nsamples = 1\\nvalue = [1, 0]'),\n",
       " Text(204.53385652973637, 145.99542857142856, 'X[2] <= 35630.0\\nentropy = 0.65\\nsamples = 6\\nvalue = [1, 5]'),\n",
       " Text(199.27887185775597, 139.78285714285715, 'X[2] <= 34907.0\\nentropy = 0.918\\nsamples = 3\\nvalue = [1, 2]'),\n",
       " Text(194.0238871857756, 133.57028571428572, 'entropy = 0.0\\nsamples = 2\\nvalue = [0, 2]'),\n",
       " Text(204.53385652973637, 133.57028571428572, 'entropy = 0.0\\nsamples = 1\\nvalue = [1, 0]'),\n",
       " Text(209.78884120171674, 139.78285714285715, 'entropy = 0.0\\nsamples = 3\\nvalue = [0, 3]'),\n",
       " Text(209.78884120171674, 152.208, 'entropy = 0.0\\nsamples = 2\\nvalue = [2, 0]'),\n",
       " Text(215.04382587369713, 158.42057142857144, 'entropy = 0.0\\nsamples = 3\\nvalue = [0, 3]'),\n",
       " Text(188.7689025137952, 177.05828571428572, 'entropy = 0.0\\nsamples = 1\\nvalue = [1, 0]'),\n",
       " Text(194.0238871857756, 183.27085714285715, 'entropy = 0.0\\nsamples = 1\\nvalue = [1, 0]'),\n",
       " Text(225.55379521765786, 189.48342857142856, 'X[3] <= 7.5\\nentropy = 0.602\\nsamples = 34\\nvalue = [5, 29]'),\n",
       " Text(220.2988105456775, 183.27085714285715, 'entropy = 0.0\\nsamples = 1\\nvalue = [1, 0]'),\n",
       " Text(230.80877988963826, 183.27085714285715, 'X[3] <= 12.5\\nentropy = 0.533\\nsamples = 33\\nvalue = [4, 29]'),\n",
       " Text(225.55379521765786, 177.05828571428572, 'entropy = 0.0\\nsamples = 12\\nvalue = [0, 12]'),\n",
       " Text(236.06376456161863, 177.05828571428572, 'X[2] <= 52792.5\\nentropy = 0.702\\nsamples = 21\\nvalue = [4, 17]'),\n",
       " Text(225.55379521765786, 170.84571428571428, 'X[3] <= 14.0\\nentropy = 0.439\\nsamples = 11\\nvalue = [1, 10]'),\n",
       " Text(220.2988105456775, 164.63314285714284, 'entropy = 0.0\\nsamples = 1\\nvalue = [1, 0]'),\n",
       " Text(230.80877988963826, 164.63314285714284, 'entropy = 0.0\\nsamples = 10\\nvalue = [0, 10]'),\n",
       " Text(246.5737339055794, 170.84571428571428, 'X[3] <= 18.0\\nentropy = 0.881\\nsamples = 10\\nvalue = [3, 7]'),\n",
       " Text(241.31874923359902, 164.63314285714284, 'entropy = 0.0\\nsamples = 4\\nvalue = [0, 4]'),\n",
       " Text(251.82871857755978, 164.63314285714284, 'X[2] <= 58738.5\\nentropy = 1.0\\nsamples = 6\\nvalue = [3, 3]'),\n",
       " Text(246.5737339055794, 158.42057142857144, 'X[3] <= 21.5\\nentropy = 0.811\\nsamples = 4\\nvalue = [3, 1]'),\n",
       " Text(241.31874923359902, 152.208, 'entropy = 0.0\\nsamples = 2\\nvalue = [2, 0]'),\n",
       " Text(251.82871857755978, 152.208, 'X[1] <= 0.5\\nentropy = 1.0\\nsamples = 2\\nvalue = [1, 1]'),\n",
       " Text(246.5737339055794, 145.99542857142856, 'entropy = 0.0\\nsamples = 1\\nvalue = [0, 1]'),\n",
       " Text(257.0837032495402, 145.99542857142856, 'entropy = 0.0\\nsamples = 1\\nvalue = [1, 0]'),\n",
       " Text(257.0837032495402, 158.42057142857144, 'entropy = 0.0\\nsamples = 2\\nvalue = [0, 2]'),\n",
       " Text(251.82871857755978, 195.696, 'X[2] <= 36345.0\\nentropy = 0.25\\nsamples = 24\\nvalue = [1, 23]'),\n",
       " Text(246.5737339055794, 189.48342857142856, 'X[2] <= 34266.5\\nentropy = 0.592\\nsamples = 7\\nvalue = [1, 6]'),\n",
       " Text(241.31874923359902, 183.27085714285715, 'entropy = 0.0\\nsamples = 6\\nvalue = [0, 6]'),\n",
       " Text(251.82871857755978, 183.27085714285715, 'entropy = 0.0\\nsamples = 1\\nvalue = [1, 0]'),\n",
       " Text(257.0837032495402, 189.48342857142856, 'entropy = 0.0\\nsamples = 17\\nvalue = [0, 17]'),\n",
       " Text(313.7800613120785, 208.12114285714284, 'X[2] <= 64532.5\\nentropy = 0.759\\nsamples = 378\\nvalue = [83, 295]'),\n",
       " Text(303.2700919681177, 201.90857142857143, 'X[3] <= 23.5\\nentropy = 0.991\\nsamples = 9\\nvalue = [5, 4]'),\n",
       " Text(298.01510729613733, 195.696, 'X[3] <= 12.5\\nentropy = 0.863\\nsamples = 7\\nvalue = [5, 2]'),\n",
       " Text(292.76012262415696, 189.48342857142856, 'X[3] <= 3.0\\nentropy = 0.918\\nsamples = 3\\nvalue = [1, 2]'),\n",
       " Text(287.5051379521766, 183.27085714285715, 'entropy = 0.0\\nsamples = 1\\nvalue = [1, 0]'),\n",
       " Text(298.01510729613733, 183.27085714285715, 'entropy = 0.0\\nsamples = 2\\nvalue = [0, 2]'),\n",
       " Text(303.2700919681177, 189.48342857142856, 'entropy = 0.0\\nsamples = 4\\nvalue = [4, 0]'),\n",
       " Text(308.5250766400981, 195.696, 'entropy = 0.0\\nsamples = 2\\nvalue = [0, 2]'),\n",
       " Text(324.2900306560392, 201.90857142857143, 'X[2] <= 198073.5\\nentropy = 0.744\\nsamples = 369\\nvalue = [78, 291]'),\n",
       " Text(319.03504598405885, 195.696, 'X[2] <= 197925.0\\nentropy = 0.748\\nsamples = 365\\nvalue = [78, 287]'),\n",
       " Text(313.7800613120785, 189.48342857142856, 'X[2] <= 195217.5\\nentropy = 0.744\\nsamples = 364\\nvalue = [77, 287]'),\n",
       " Text(308.5250766400981, 183.27085714285715, 'X[2] <= 194880.0\\nentropy = 0.751\\nsamples = 358\\nvalue = [77, 281]'),\n",
       " Text(303.2700919681177, 177.05828571428572, 'X[2] <= 194179.5\\nentropy = 0.743\\nsamples = 356\\nvalue = [75, 281]'),\n",
       " Text(298.01510729613733, 170.84571428571428, 'X[2] <= 193885.0\\nentropy = 0.747\\nsamples = 352\\nvalue = [75, 277]'),\n",
       " Text(292.76012262415696, 164.63314285714284, 'X[2] <= 192727.0\\nentropy = 0.743\\nsamples = 351\\nvalue = [74, 277]'),\n",
       " Text(287.5051379521766, 158.42057142857144, 'X[2] <= 192361.5\\nentropy = 0.75\\nsamples = 345\\nvalue = [74, 271]'),\n",
       " Text(282.2501532801962, 152.208, 'X[3] <= 29.5\\nentropy = 0.741\\nsamples = 343\\nvalue = [72, 271]'),\n",
       " Text(267.5936725935009, 145.99542857142856, 'X[2] <= 189255.0\\nentropy = 0.729\\nsamples = 329\\nvalue = [67, 262]'),\n",
       " Text(262.33868792152055, 139.78285714285715, 'X[2] <= 189135.0\\nentropy = 0.738\\nsamples = 322\\nvalue = [67, 255]'),\n",
       " Text(257.0837032495402, 133.57028571428572, 'X[2] <= 184522.5\\nentropy = 0.733\\nsamples = 321\\nvalue = [66, 255]'),\n",
       " Text(251.82871857755978, 127.35771428571428, 'X[2] <= 183724.5\\nentropy = 0.739\\nsamples = 316\\nvalue = [66, 250]'),\n",
       " Text(246.5737339055794, 121.14514285714286, 'X[2] <= 177829.0\\nentropy = 0.73\\nsamples = 314\\nvalue = [64, 250]'),\n",
       " Text(241.31874923359902, 114.93257142857142, 'X[2] <= 175884.5\\nentropy = 0.745\\nsamples = 302\\nvalue = [64, 238]'),\n",
       " Text(196.2408338442673, 108.72, 'X[2] <= 139887.0\\nentropy = 0.729\\nsamples = 295\\nvalue = [60, 235]'),\n",
       " Text(136.3011649294911, 102.50742857142856, 'X[2] <= 137457.5\\nentropy = 0.769\\nsamples = 209\\nvalue = [47, 162]'),\n",
       " Text(86.05037400367873, 96.29485714285714, 'X[3] <= 15.5\\nentropy = 0.741\\nsamples = 200\\nvalue = [42, 158]'),\n",
       " Text(39.41238503985285, 90.08228571428572, 'X[2] <= 129972.5\\nentropy = 0.643\\nsamples = 116\\nvalue = [19, 97]'),\n",
       " Text(34.15740036787247, 83.86971428571428, 'X[2] <= 128608.5\\nentropy = 0.678\\nsamples = 106\\nvalue = [19, 87]'),\n",
       " Text(28.902415695892092, 77.65714285714284, 'X[2] <= 73318.0\\nentropy = 0.623\\nsamples = 103\\nvalue = [16, 87]'),\n",
       " Text(23.64743102391171, 71.44457142857144, 'entropy = 0.0\\nsamples = 7\\nvalue = [0, 7]'),\n",
       " Text(34.15740036787247, 71.44457142857144, 'X[2] <= 82976.5\\nentropy = 0.65\\nsamples = 96\\nvalue = [16, 80]'),\n",
       " Text(21.01993868792152, 65.232, 'X[2] <= 80860.0\\nentropy = 0.902\\nsamples = 22\\nvalue = [7, 15]'),\n",
       " Text(15.76495401594114, 59.01942857142856, 'X[2] <= 76515.5\\nentropy = 0.65\\nsamples = 18\\nvalue = [3, 15]'),\n",
       " Text(10.50996934396076, 52.806857142857126, 'X[2] <= 73611.5\\nentropy = 0.881\\nsamples = 10\\nvalue = [3, 7]'),\n",
       " Text(5.25498467198038, 46.59428571428572, 'entropy = 0.0\\nsamples = 1\\nvalue = [1, 0]'),\n",
       " Text(15.76495401594114, 46.59428571428572, 'X[1] <= 0.5\\nentropy = 0.764\\nsamples = 9\\nvalue = [2, 7]'),\n",
       " Text(10.50996934396076, 40.38171428571428, 'X[2] <= 74416.5\\nentropy = 1.0\\nsamples = 4\\nvalue = [2, 2]'),\n",
       " Text(5.25498467198038, 34.169142857142845, 'entropy = 0.0\\nsamples = 2\\nvalue = [0, 2]'),\n",
       " Text(15.76495401594114, 34.169142857142845, 'entropy = 0.0\\nsamples = 2\\nvalue = [2, 0]'),\n",
       " Text(21.01993868792152, 40.38171428571428, 'entropy = 0.0\\nsamples = 5\\nvalue = [0, 5]'),\n",
       " Text(21.01993868792152, 52.806857142857126, 'entropy = 0.0\\nsamples = 8\\nvalue = [0, 8]'),\n",
       " Text(26.2749233599019, 59.01942857142856, 'entropy = 0.0\\nsamples = 4\\nvalue = [4, 0]'),\n",
       " Text(47.29486204782342, 65.232, 'X[2] <= 100654.0\\nentropy = 0.534\\nsamples = 74\\nvalue = [9, 65]'),\n",
       " Text(36.78489270386266, 59.01942857142856, 'X[2] <= 86407.5\\nentropy = 0.229\\nsamples = 27\\nvalue = [1, 26]'),\n",
       " Text(31.52990803188228, 52.806857142857126, 'X[2] <= 86000.5\\nentropy = 0.439\\nsamples = 11\\nvalue = [1, 10]'),\n",
       " Text(26.2749233599019, 46.59428571428572, 'entropy = 0.0\\nsamples = 10\\nvalue = [0, 10]'),\n",
       " Text(36.78489270386266, 46.59428571428572, 'entropy = 0.0\\nsamples = 1\\nvalue = [1, 0]'),\n",
       " Text(42.03987737584304, 52.806857142857126, 'entropy = 0.0\\nsamples = 16\\nvalue = [0, 16]'),\n",
       " Text(57.804831391784184, 59.01942857142856, 'X[2] <= 102112.0\\nentropy = 0.658\\nsamples = 47\\nvalue = [8, 39]'),\n",
       " Text(52.5498467198038, 52.806857142857126, 'entropy = 0.0\\nsamples = 2\\nvalue = [2, 0]'),\n",
       " Text(63.05981606376456, 52.806857142857126, 'X[2] <= 108091.0\\nentropy = 0.567\\nsamples = 45\\nvalue = [6, 39]'),\n",
       " Text(57.804831391784184, 46.59428571428572, 'entropy = 0.0\\nsamples = 7\\nvalue = [0, 7]'),\n",
       " Text(68.31480073574494, 46.59428571428572, 'X[2] <= 108253.5\\nentropy = 0.629\\nsamples = 38\\nvalue = [6, 32]'),\n",
       " Text(63.05981606376456, 40.38171428571428, 'entropy = 0.0\\nsamples = 1\\nvalue = [1, 0]'),\n",
       " Text(73.56978540772532, 40.38171428571428, 'X[3] <= 5.5\\nentropy = 0.571\\nsamples = 37\\nvalue = [5, 32]'),\n",
       " Text(68.31480073574494, 34.169142857142845, 'entropy = 0.0\\nsamples = 12\\nvalue = [0, 12]'),\n",
       " Text(78.8247700797057, 34.169142857142845, 'X[2] <= 114872.5\\nentropy = 0.722\\nsamples = 25\\nvalue = [5, 20]'),\n",
       " Text(68.31480073574494, 27.956571428571436, 'X[2] <= 110025.0\\nentropy = 0.918\\nsamples = 9\\nvalue = [3, 6]'),\n",
       " Text(63.05981606376456, 21.744, 'entropy = 0.0\\nsamples = 3\\nvalue = [0, 3]'),\n",
       " Text(73.56978540772532, 21.744, 'X[2] <= 112832.0\\nentropy = 1.0\\nsamples = 6\\nvalue = [3, 3]'),\n",
       " Text(68.31480073574494, 15.531428571428563, 'entropy = 0.0\\nsamples = 2\\nvalue = [2, 0]'),\n",
       " Text(78.8247700797057, 15.531428571428563, 'X[2] <= 114722.0\\nentropy = 0.811\\nsamples = 4\\nvalue = [1, 3]'),\n",
       " Text(73.56978540772532, 9.318857142857127, 'entropy = 0.0\\nsamples = 3\\nvalue = [0, 3]'),\n",
       " Text(84.07975475168608, 9.318857142857127, 'entropy = 0.0\\nsamples = 1\\nvalue = [1, 0]'),\n",
       " Text(89.33473942366646, 27.956571428571436, 'X[2] <= 122014.5\\nentropy = 0.544\\nsamples = 16\\nvalue = [2, 14]'),\n",
       " Text(84.07975475168608, 21.744, 'entropy = 0.0\\nsamples = 9\\nvalue = [0, 9]'),\n",
       " Text(94.58972409564684, 21.744, 'X[2] <= 123572.5\\nentropy = 0.863\\nsamples = 7\\nvalue = [2, 5]'),\n",
       " Text(89.33473942366646, 15.531428571428563, 'entropy = 0.0\\nsamples = 1\\nvalue = [1, 0]'),\n",
       " Text(99.84470876762722, 15.531428571428563, 'X[2] <= 125302.5\\nentropy = 0.65\\nsamples = 6\\nvalue = [1, 5]'),\n",
       " Text(94.58972409564684, 9.318857142857127, 'X[2] <= 125133.5\\nentropy = 0.918\\nsamples = 3\\nvalue = [1, 2]'),\n",
       " Text(89.33473942366646, 3.1062857142857183, 'entropy = 0.0\\nsamples = 2\\nvalue = [0, 2]'),\n",
       " Text(99.84470876762722, 3.1062857142857183, 'entropy = 0.0\\nsamples = 1\\nvalue = [1, 0]'),\n",
       " Text(105.0996934396076, 9.318857142857127, 'entropy = 0.0\\nsamples = 3\\nvalue = [0, 3]'),\n",
       " Text(39.41238503985285, 77.65714285714284, 'entropy = 0.0\\nsamples = 3\\nvalue = [3, 0]'),\n",
       " Text(44.66736971183323, 83.86971428571428, 'entropy = 0.0\\nsamples = 10\\nvalue = [0, 10]'),\n",
       " Text(132.6883629675046, 90.08228571428572, 'X[2] <= 102249.0\\nentropy = 0.847\\nsamples = 84\\nvalue = [23, 61]'),\n",
       " Text(105.0996934396076, 83.86971428571428, 'X[2] <= 95887.0\\nentropy = 0.768\\nsamples = 49\\nvalue = [11, 38]'),\n",
       " Text(99.84470876762722, 77.65714285714284, 'X[3] <= 18.5\\nentropy = 0.849\\nsamples = 40\\nvalue = [11, 29]'),\n",
       " Text(73.56978540772532, 71.44457142857144, 'X[2] <= 73629.0\\nentropy = 0.991\\nsamples = 9\\nvalue = [5, 4]'),\n",
       " Text(68.31480073574494, 65.232, 'entropy = 0.0\\nsamples = 1\\nvalue = [1, 0]'),\n",
       " Text(78.8247700797057, 65.232, 'X[2] <= 75347.5\\nentropy = 1.0\\nsamples = 8\\nvalue = [4, 4]'),\n",
       " Text(73.56978540772532, 59.01942857142856, 'entropy = 0.0\\nsamples = 1\\nvalue = [0, 1]'),\n",
       " Text(84.07975475168608, 59.01942857142856, 'X[2] <= 75944.5\\nentropy = 0.985\\nsamples = 7\\nvalue = [4, 3]'),\n",
       " Text(78.8247700797057, 52.806857142857126, 'entropy = 0.0\\nsamples = 1\\nvalue = [1, 0]'),\n",
       " Text(89.33473942366646, 52.806857142857126, 'X[2] <= 76695.0\\nentropy = 1.0\\nsamples = 6\\nvalue = [3, 3]'),\n",
       " Text(84.07975475168608, 46.59428571428572, 'entropy = 0.0\\nsamples = 1\\nvalue = [0, 1]'),\n",
       " Text(94.58972409564684, 46.59428571428572, 'X[1] <= 0.5\\nentropy = 0.971\\nsamples = 5\\nvalue = [3, 2]'),\n",
       " Text(89.33473942366646, 40.38171428571428, 'entropy = 0.0\\nsamples = 1\\nvalue = [1, 0]'),\n",
       " Text(99.84470876762722, 40.38171428571428, 'X[2] <= 79301.5\\nentropy = 1.0\\nsamples = 4\\nvalue = [2, 2]'),\n",
       " Text(94.58972409564684, 34.169142857142845, 'entropy = 0.0\\nsamples = 1\\nvalue = [1, 0]'),\n",
       " Text(105.0996934396076, 34.169142857142845, 'X[2] <= 84099.0\\nentropy = 0.918\\nsamples = 3\\nvalue = [1, 2]'),\n",
       " Text(99.84470876762722, 27.956571428571436, 'entropy = 0.0\\nsamples = 1\\nvalue = [0, 1]'),\n",
       " Text(110.35467811158799, 27.956571428571436, 'X[2] <= 86648.5\\nentropy = 1.0\\nsamples = 2\\nvalue = [1, 1]'),\n",
       " Text(105.0996934396076, 21.744, 'entropy = 0.0\\nsamples = 1\\nvalue = [1, 0]'),\n",
       " Text(115.60966278356837, 21.744, 'entropy = 0.0\\nsamples = 1\\nvalue = [0, 1]'),\n",
       " Text(126.11963212752912, 71.44457142857144, 'X[3] <= 23.5\\nentropy = 0.709\\nsamples = 31\\nvalue = [6, 25]'),\n",
       " Text(120.86464745554875, 65.232, 'entropy = 0.0\\nsamples = 14\\nvalue = [0, 14]'),\n",
       " Text(131.3746167995095, 65.232, 'X[3] <= 24.5\\nentropy = 0.937\\nsamples = 17\\nvalue = [6, 11]'),\n",
       " Text(126.11963212752912, 59.01942857142856, 'entropy = 0.0\\nsamples = 1\\nvalue = [1, 0]'),\n",
       " Text(136.62960147148988, 59.01942857142856, 'X[2] <= 85465.0\\nentropy = 0.896\\nsamples = 16\\nvalue = [5, 11]'),\n",
       " Text(131.3746167995095, 52.806857142857126, 'X[2] <= 78701.0\\nentropy = 0.98\\nsamples = 12\\nvalue = [5, 7]'),\n",
       " Text(126.11963212752912, 46.59428571428572, 'X[2] <= 67770.0\\nentropy = 0.764\\nsamples = 9\\nvalue = [2, 7]'),\n",
       " Text(120.86464745554875, 40.38171428571428, 'X[2] <= 65500.0\\nentropy = 0.918\\nsamples = 3\\nvalue = [2, 1]'),\n",
       " Text(115.60966278356837, 34.169142857142845, 'entropy = 0.0\\nsamples = 1\\nvalue = [0, 1]'),\n",
       " Text(126.11963212752912, 34.169142857142845, 'entropy = 0.0\\nsamples = 2\\nvalue = [2, 0]'),\n",
       " Text(131.3746167995095, 40.38171428571428, 'entropy = 0.0\\nsamples = 6\\nvalue = [0, 6]'),\n",
       " Text(136.62960147148988, 46.59428571428572, 'entropy = 0.0\\nsamples = 3\\nvalue = [3, 0]'),\n",
       " Text(141.88458614347027, 52.806857142857126, 'entropy = 0.0\\nsamples = 4\\nvalue = [0, 4]'),\n",
       " Text(110.35467811158799, 77.65714285714284, 'entropy = 0.0\\nsamples = 9\\nvalue = [0, 9]'),\n",
       " Text(160.27703249540158, 83.86971428571428, 'X[2] <= 104082.0\\nentropy = 0.928\\nsamples = 35\\nvalue = [12, 23]'),\n",
       " Text(155.02204782342122, 77.65714285714284, 'entropy = 0.0\\nsamples = 3\\nvalue = [3, 0]'),\n",
       " Text(165.53201716738198, 77.65714285714284, 'X[3] <= 24.5\\nentropy = 0.857\\nsamples = 32\\nvalue = [9, 23]'),\n",
       " Text(152.39455548743103, 71.44457142857144, 'X[2] <= 108627.0\\nentropy = 0.971\\nsamples = 20\\nvalue = [8, 12]'),\n",
       " Text(147.13957081545064, 65.232, 'entropy = 0.0\\nsamples = 4\\nvalue = [0, 4]'),\n",
       " Text(157.6495401594114, 65.232, 'X[2] <= 113712.5\\nentropy = 1.0\\nsamples = 16\\nvalue = [8, 8]'),\n",
       " Text(152.39455548743103, 59.01942857142856, 'entropy = 0.0\\nsamples = 3\\nvalue = [3, 0]'),\n",
       " Text(162.9045248313918, 59.01942857142856, 'X[2] <= 124584.0\\nentropy = 0.961\\nsamples = 13\\nvalue = [5, 8]'),\n",
       " Text(152.39455548743103, 52.806857142857126, 'X[2] <= 116513.5\\nentropy = 0.65\\nsamples = 6\\nvalue = [1, 5]'),\n",
       " Text(147.13957081545064, 46.59428571428572, 'X[2] <= 116221.5\\nentropy = 1.0\\nsamples = 2\\nvalue = [1, 1]'),\n",
       " Text(141.88458614347027, 40.38171428571428, 'entropy = 0.0\\nsamples = 1\\nvalue = [0, 1]'),\n",
       " Text(152.39455548743103, 40.38171428571428, 'entropy = 0.0\\nsamples = 1\\nvalue = [1, 0]'),\n",
       " Text(157.6495401594114, 46.59428571428572, 'entropy = 0.0\\nsamples = 4\\nvalue = [0, 4]'),\n",
       " Text(173.41449417535253, 52.806857142857126, 'X[2] <= 128771.0\\nentropy = 0.985\\nsamples = 7\\nvalue = [4, 3]'),\n",
       " Text(168.15950950337216, 46.59428571428572, 'entropy = 0.0\\nsamples = 2\\nvalue = [2, 0]'),\n",
       " Text(178.66947884733293, 46.59428571428572, 'X[2] <= 131699.5\\nentropy = 0.971\\nsamples = 5\\nvalue = [2, 3]'),\n",
       " Text(173.41449417535253, 40.38171428571428, 'entropy = 0.0\\nsamples = 2\\nvalue = [0, 2]'),\n",
       " Text(183.9244635193133, 40.38171428571428, 'X[3] <= 19.0\\nentropy = 0.918\\nsamples = 3\\nvalue = [2, 1]'),\n",
       " Text(178.66947884733293, 34.169142857142845, 'entropy = 0.0\\nsamples = 1\\nvalue = [0, 1]'),\n",
       " Text(189.1794481912937, 34.169142857142845, 'entropy = 0.0\\nsamples = 2\\nvalue = [2, 0]'),\n",
       " Text(178.66947884733293, 71.44457142857144, 'X[3] <= 27.5\\nentropy = 0.414\\nsamples = 12\\nvalue = [1, 11]'),\n",
       " Text(173.41449417535253, 65.232, 'entropy = 0.0\\nsamples = 7\\nvalue = [0, 7]'),\n",
       " Text(183.9244635193133, 65.232, 'X[2] <= 114743.5\\nentropy = 0.722\\nsamples = 5\\nvalue = [1, 4]'),\n",
       " Text(178.66947884733293, 59.01942857142856, 'entropy = 0.0\\nsamples = 3\\nvalue = [0, 3]'),\n",
       " Text(189.1794481912937, 59.01942857142856, 'X[1] <= 0.5\\nentropy = 1.0\\nsamples = 2\\nvalue = [1, 1]'),\n",
       " Text(183.9244635193133, 52.806857142857126, 'entropy = 0.0\\nsamples = 1\\nvalue = [0, 1]'),\n",
       " Text(194.43443286327405, 52.806857142857126, 'entropy = 0.0\\nsamples = 1\\nvalue = [1, 0]'),\n",
       " Text(186.5519558553035, 96.29485714285714, 'X[3] <= 11.5\\nentropy = 0.991\\nsamples = 9\\nvalue = [5, 4]'),\n",
       " Text(176.04198651134274, 90.08228571428572, 'X[3] <= 2.5\\nentropy = 0.722\\nsamples = 5\\nvalue = [4, 1]'),\n",
       " Text(170.78700183936235, 83.86971428571428, 'entropy = 0.0\\nsamples = 1\\nvalue = [0, 1]'),\n",
       " Text(181.2969711833231, 83.86971428571428, 'entropy = 0.0\\nsamples = 4\\nvalue = [4, 0]'),\n",
       " Text(197.06192519926427, 90.08228571428572, 'X[3] <= 25.0\\nentropy = 0.811\\nsamples = 4\\nvalue = [1, 3]'),\n",
       " Text(191.80694052728387, 83.86971428571428, 'entropy = 0.0\\nsamples = 2\\nvalue = [0, 2]'),\n",
       " Text(202.31690987124463, 83.86971428571428, 'X[3] <= 28.5\\nentropy = 1.0\\nsamples = 2\\nvalue = [1, 1]'),\n",
       " Text(197.06192519926427, 77.65714285714284, 'entropy = 0.0\\nsamples = 1\\nvalue = [1, 0]'),\n",
       " Text(207.57189454322503, 77.65714285714284, 'entropy = 0.0\\nsamples = 1\\nvalue = [0, 1]'),\n",
       " Text(256.1805027590435, 102.50742857142856, 'X[3] <= 27.5\\nentropy = 0.613\\nsamples = 86\\nvalue = [13, 73]'),\n",
       " Text(250.92551808706315, 96.29485714285714, 'X[1] <= 0.5\\nentropy = 0.65\\nsamples = 78\\nvalue = [13, 65]'),\n",
       " Text(228.59183323114652, 90.08228571428572, 'X[3] <= 15.5\\nentropy = 0.391\\nsamples = 26\\nvalue = [2, 24]'),\n",
       " Text(223.33684855916616, 83.86971428571428, 'X[2] <= 158413.5\\nentropy = 0.619\\nsamples = 13\\nvalue = [2, 11]'),\n",
       " Text(218.08186388718576, 77.65714285714284, 'X[2] <= 153580.0\\nentropy = 0.918\\nsamples = 6\\nvalue = [2, 4]'),\n",
       " Text(212.8268792152054, 71.44457142857144, 'entropy = 0.0\\nsamples = 3\\nvalue = [0, 3]'),\n",
       " Text(223.33684855916616, 71.44457142857144, 'X[2] <= 155656.0\\nentropy = 0.918\\nsamples = 3\\nvalue = [2, 1]'),\n",
       " Text(218.08186388718576, 65.232, 'entropy = 0.0\\nsamples = 1\\nvalue = [1, 0]'),\n",
       " Text(228.59183323114652, 65.232, 'X[2] <= 157673.0\\nentropy = 1.0\\nsamples = 2\\nvalue = [1, 1]'),\n",
       " Text(223.33684855916616, 59.01942857142856, 'entropy = 0.0\\nsamples = 1\\nvalue = [0, 1]'),\n",
       " Text(233.84681790312692, 59.01942857142856, 'entropy = 0.0\\nsamples = 1\\nvalue = [1, 0]'),\n",
       " Text(228.59183323114652, 77.65714285714284, 'entropy = 0.0\\nsamples = 7\\nvalue = [0, 7]'),\n",
       " Text(233.84681790312692, 83.86971428571428, 'entropy = 0.0\\nsamples = 13\\nvalue = [0, 13]'),\n",
       " Text(273.25920294297975, 90.08228571428572, 'X[2] <= 161996.0\\nentropy = 0.744\\nsamples = 52\\nvalue = [11, 41]'),\n",
       " Text(260.1217412630288, 83.86971428571428, 'X[2] <= 150992.5\\nentropy = 0.614\\nsamples = 33\\nvalue = [5, 28]'),\n",
       " Text(249.61177191906805, 77.65714285714284, 'X[2] <= 149074.0\\nentropy = 0.811\\nsamples = 16\\nvalue = [4, 12]'),\n",
       " Text(244.35678724708768, 71.44457142857144, 'X[3] <= 13.5\\nentropy = 0.592\\nsamples = 14\\nvalue = [2, 12]'),\n",
       " Text(239.10180257510729, 65.232, 'entropy = 0.0\\nsamples = 7\\nvalue = [0, 7]'),\n",
       " Text(249.61177191906805, 65.232, 'X[3] <= 15.0\\nentropy = 0.863\\nsamples = 7\\nvalue = [2, 5]'),\n",
       " Text(244.35678724708768, 59.01942857142856, 'entropy = 0.0\\nsamples = 1\\nvalue = [1, 0]'),\n",
       " Text(254.86675659104844, 59.01942857142856, 'X[2] <= 144054.0\\nentropy = 0.65\\nsamples = 6\\nvalue = [1, 5]'),\n",
       " Text(249.61177191906805, 52.806857142857126, 'X[2] <= 140460.5\\nentropy = 1.0\\nsamples = 2\\nvalue = [1, 1]'),\n",
       " Text(244.35678724708768, 46.59428571428572, 'entropy = 0.0\\nsamples = 1\\nvalue = [0, 1]'),\n",
       " Text(254.86675659104844, 46.59428571428572, 'entropy = 0.0\\nsamples = 1\\nvalue = [1, 0]'),\n",
       " Text(260.1217412630288, 52.806857142857126, 'entropy = 0.0\\nsamples = 4\\nvalue = [0, 4]'),\n",
       " Text(254.86675659104844, 71.44457142857144, 'entropy = 0.0\\nsamples = 2\\nvalue = [2, 0]'),\n",
       " Text(270.6317106069896, 77.65714285714284, 'X[2] <= 157197.0\\nentropy = 0.323\\nsamples = 17\\nvalue = [1, 16]'),\n",
       " Text(265.3767259350092, 71.44457142857144, 'entropy = 0.0\\nsamples = 10\\nvalue = [0, 10]'),\n",
       " Text(275.88669527896997, 71.44457142857144, 'X[2] <= 157739.0\\nentropy = 0.592\\nsamples = 7\\nvalue = [1, 6]'),\n",
       " Text(270.6317106069896, 65.232, 'entropy = 0.0\\nsamples = 1\\nvalue = [1, 0]'),\n",
       " Text(281.14167995095033, 65.232, 'entropy = 0.0\\nsamples = 6\\nvalue = [0, 6]'),\n",
       " Text(286.3966646229307, 83.86971428571428, 'X[2] <= 165088.0\\nentropy = 0.9\\nsamples = 19\\nvalue = [6, 13]'),\n",
       " Text(281.14167995095033, 77.65714285714284, 'entropy = 0.0\\nsamples = 4\\nvalue = [4, 0]'),\n",
       " Text(291.6516492949111, 77.65714285714284, 'X[2] <= 172851.5\\nentropy = 0.567\\nsamples = 15\\nvalue = [2, 13]'),\n",
       " Text(286.3966646229307, 71.44457142857144, 'entropy = 0.0\\nsamples = 10\\nvalue = [0, 10]'),\n",
       " Text(296.9066339668915, 71.44457142857144, 'X[2] <= 173183.5\\nentropy = 0.971\\nsamples = 5\\nvalue = [2, 3]'),\n",
       " Text(291.6516492949111, 65.232, 'entropy = 0.0\\nsamples = 1\\nvalue = [1, 0]'),\n",
       " Text(302.16161863887186, 65.232, 'X[2] <= 174091.0\\nentropy = 0.811\\nsamples = 4\\nvalue = [1, 3]'),\n",
       " Text(296.9066339668915, 59.01942857142856, 'entropy = 0.0\\nsamples = 2\\nvalue = [0, 2]'),\n",
       " Text(307.4166033108522, 59.01942857142856, 'X[2] <= 174957.5\\nentropy = 1.0\\nsamples = 2\\nvalue = [1, 1]'),\n",
       " Text(302.16161863887186, 52.806857142857126, 'entropy = 0.0\\nsamples = 1\\nvalue = [1, 0]'),\n",
       " Text(312.6715879828326, 52.806857142857126, 'entropy = 0.0\\nsamples = 1\\nvalue = [0, 1]'),\n",
       " Text(261.4354874310239, 96.29485714285714, 'entropy = 0.0\\nsamples = 8\\nvalue = [0, 8]'),\n",
       " Text(286.3966646229307, 108.72, 'X[2] <= 176304.0\\nentropy = 0.985\\nsamples = 7\\nvalue = [4, 3]'),\n",
       " Text(281.14167995095033, 102.50742857142856, 'entropy = 0.0\\nsamples = 2\\nvalue = [2, 0]'),\n",
       " Text(291.6516492949111, 102.50742857142856, 'X[2] <= 176616.0\\nentropy = 0.971\\nsamples = 5\\nvalue = [2, 3]'),\n",
       " Text(286.3966646229307, 96.29485714285714, 'entropy = 0.0\\nsamples = 2\\nvalue = [0, 2]'),\n",
       " Text(296.9066339668915, 96.29485714285714, 'X[2] <= 177179.5\\nentropy = 0.918\\nsamples = 3\\nvalue = [2, 1]'),\n",
       " Text(291.6516492949111, 90.08228571428572, 'entropy = 0.0\\nsamples = 1\\nvalue = [1, 0]'),\n",
       " Text(302.16161863887186, 90.08228571428572, 'X[3] <= 12.0\\nentropy = 1.0\\nsamples = 2\\nvalue = [1, 1]'),\n",
       " Text(296.9066339668915, 83.86971428571428, 'entropy = 0.0\\nsamples = 1\\nvalue = [1, 0]'),\n",
       " Text(307.4166033108522, 83.86971428571428, 'entropy = 0.0\\nsamples = 1\\nvalue = [0, 1]'),\n",
       " Text(251.82871857755978, 114.93257142857142, 'entropy = 0.0\\nsamples = 12\\nvalue = [0, 12]'),\n",
       " Text(257.0837032495402, 121.14514285714286, 'entropy = 0.0\\nsamples = 2\\nvalue = [2, 0]'),\n",
       " Text(262.33868792152055, 127.35771428571428, 'entropy = 0.0\\nsamples = 5\\nvalue = [0, 5]'),\n",
       " Text(267.5936725935009, 133.57028571428572, 'entropy = 0.0\\nsamples = 1\\nvalue = [1, 0]'),\n",
       " Text(272.8486572654813, 139.78285714285715, 'entropy = 0.0\\nsamples = 7\\nvalue = [0, 7]'),\n",
       " Text(296.9066339668915, 145.99542857142856, 'X[2] <= 121060.5\\nentropy = 0.94\\nsamples = 14\\nvalue = [5, 9]'),\n",
       " Text(291.6516492949111, 139.78285714285715, 'entropy = 0.0\\nsamples = 4\\nvalue = [0, 4]'),\n",
       " Text(302.16161863887186, 139.78285714285715, 'X[2] <= 130690.5\\nentropy = 1.0\\nsamples = 10\\nvalue = [5, 5]'),\n",
       " Text(296.9066339668915, 133.57028571428572, 'entropy = 0.0\\nsamples = 2\\nvalue = [2, 0]'),\n",
       " Text(307.4166033108522, 133.57028571428572, 'X[2] <= 188735.0\\nentropy = 0.954\\nsamples = 8\\nvalue = [3, 5]'),\n",
       " Text(302.16161863887186, 127.35771428571428, 'X[2] <= 170835.5\\nentropy = 0.863\\nsamples = 7\\nvalue = [2, 5]'),\n",
       " Text(296.9066339668915, 121.14514285714286, 'X[2] <= 133052.0\\nentropy = 1.0\\nsamples = 4\\nvalue = [2, 2]'),\n",
       " Text(291.6516492949111, 114.93257142857142, 'entropy = 0.0\\nsamples = 1\\nvalue = [0, 1]'),\n",
       " Text(302.16161863887186, 114.93257142857142, 'X[2] <= 136890.5\\nentropy = 0.918\\nsamples = 3\\nvalue = [2, 1]'),\n",
       " Text(296.9066339668915, 108.72, 'entropy = 0.0\\nsamples = 1\\nvalue = [1, 0]'),\n",
       " Text(307.4166033108522, 108.72, 'X[1] <= 0.5\\nentropy = 1.0\\nsamples = 2\\nvalue = [1, 1]'),\n",
       " Text(302.16161863887186, 102.50742857142856, 'entropy = 0.0\\nsamples = 1\\nvalue = [0, 1]'),\n",
       " Text(312.6715879828326, 102.50742857142856, 'entropy = 0.0\\nsamples = 1\\nvalue = [1, 0]'),\n",
       " Text(307.4166033108522, 121.14514285714286, 'entropy = 0.0\\nsamples = 3\\nvalue = [0, 3]'),\n",
       " Text(312.6715879828326, 127.35771428571428, 'entropy = 0.0\\nsamples = 1\\nvalue = [1, 0]'),\n",
       " Text(292.76012262415696, 152.208, 'entropy = 0.0\\nsamples = 2\\nvalue = [2, 0]'),\n",
       " Text(298.01510729613733, 158.42057142857144, 'entropy = 0.0\\nsamples = 6\\nvalue = [0, 6]'),\n",
       " Text(303.2700919681177, 164.63314285714284, 'entropy = 0.0\\nsamples = 1\\nvalue = [1, 0]'),\n",
       " Text(308.5250766400981, 170.84571428571428, 'entropy = 0.0\\nsamples = 4\\nvalue = [0, 4]'),\n",
       " Text(313.7800613120785, 177.05828571428572, 'entropy = 0.0\\nsamples = 2\\nvalue = [2, 0]'),\n",
       " Text(319.03504598405885, 183.27085714285715, 'entropy = 0.0\\nsamples = 6\\nvalue = [0, 6]'),\n",
       " Text(324.2900306560392, 189.48342857142856, 'entropy = 0.0\\nsamples = 1\\nvalue = [1, 0]'),\n",
       " Text(329.54501532801964, 195.696, 'entropy = 0.0\\nsamples = 4\\nvalue = [0, 4]')]"
      ]
     },
     "execution_count": 103,
     "metadata": {},
     "output_type": "execute_result"
    },
    {
     "data": {
      "image/png": "[encoded data removed]",
      "text/plain": [
       "<Figure size 432x288 with 1 Axes>"
      ]
     },
     "metadata": {
      "needs_background": "light"
     },
     "output_type": "display_data"
    }
   ],
   "source": [
    "#visualize the decision tree\n",
    "from sklearn import tree\n",
    "\n",
    "tree.plot_tree(en.fit(X_train, y_train))"
   ]
  },
  {
   "cell_type": "code",
   "execution_count": null,
   "metadata": {},
   "outputs": [],
   "source": []
  },
  {
   "cell_type": "code",
   "execution_count": null,
   "metadata": {},
   "outputs": [],
   "source": []
  },
  {
   "cell_type": "code",
   "execution_count": null,
   "metadata": {},
   "outputs": [],
   "source": []
  },
  {
   "cell_type": "code",
   "execution_count": null,
   "metadata": {},
   "outputs": [],
   "source": []
  },
  {
   "cell_type": "code",
   "execution_count": null,
   "metadata": {},
   "outputs": [],
   "source": []
  }
 ],
 "metadata": {
  "kernelspec": {
   "display_name": "Python 3",
   "language": "python",
   "name": "python3"
  },
  "language_info": {
   "codemirror_mode": {
    "name": "ipython",
    "version": 3
   },
   "file_extension": ".py",
   "mimetype": "text/x-python",
   "name": "python",
   "nbconvert_exporter": "python",
   "pygments_lexer": "ipython3",
   "version": "3.7.7"
  }
 },
 "nbformat": 4,
 "nbformat_minor": 4
}
